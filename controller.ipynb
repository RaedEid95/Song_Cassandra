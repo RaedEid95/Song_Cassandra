{
 "cells": [
  {
   "cell_type": "code",
   "execution_count": 7,
   "metadata": {},
   "outputs": [],
   "source": [
    "import pandas as pd\n",
    "import cassandra\n",
    "import re\n",
    "import os\n",
    "import glob\n",
    "import numpy as np\n",
    "import json\n",
    "import csv"
   ]
  },
  {
   "cell_type": "code",
   "execution_count": null,
   "metadata": {},
   "outputs": [],
   "source": [
    "# filepath = os.getcwd() + '/event_data'\n",
    "filepath = os.getcwd() + '/data'\n",
    "\n",
    "\n",
    "print(filepath)\n",
    "\n",
    "for root,dir,file in os.walk(filepath):\n",
    "    list_files_path = glob.glob(os.path.join(root,'*'))\n",
    "\n",
    "print(list_files_path)\n"
   ]
  },
  {
   "cell_type": "code",
   "execution_count": null,
   "metadata": {},
   "outputs": [],
   "source": [
    "data_lines = []\n",
    "\n",
    "for file in list_files_path:\n",
    "    with open(file,'r',encoding='utf-8',newline='') as csvfile:\n",
    "        csvreader = csv.reader(csvfile)\n",
    "        next(csvreader)\n",
    "        for line in csvreader:\n",
    "            print(line)\n",
    "            data_lines.append(line)\n",
    "\n",
    "\n",
    "\n",
    "csv.register_dialect('myDialect', quoting=csv.QUOTE_ALL, skipinitialspace=True)\n",
    "\n",
    "with open('event_datafile_new.csv', 'w', encoding = 'utf8', newline='') as f:\n",
    "    writer = csv.writer(f, dialect='myDialect')\n",
    "    writer.writerow(['artist','firstName','gender','itemInSession','lastName','length',\\\n",
    "                'level','location','sessionId','song','userId'])\n",
    "    for row in data_lines:\n",
    "        if (row[0] == ''):\n",
    "            continue\n",
    "        writer.writerow((row[0], row[2], row[3], row[4], row[5], row[6], row[7], row[8], row[12], row[13], row[16]))\n",
    "        "
   ]
  },
  {
   "cell_type": "code",
   "execution_count": 21,
   "metadata": {},
   "outputs": [],
   "source": [
    "from cassandra.cluster import Cluster \n",
    "\n",
    "cluster = Cluster()\n",
    "try:\n",
    "    session = cluster.connect()\n",
    "except Exception as e :\n",
    "    print(e)\n"
   ]
  },
  {
   "cell_type": "code",
   "execution_count": 22,
   "metadata": {},
   "outputs": [],
   "source": [
    "try:\n",
    "    session.execute(\"\"\"\n",
    "        CREATE KEYSPACE IF NOT EXISTS sparkifydatabase\n",
    "        WITH REPLICATION = \n",
    "        {'class' : 'SimpleStrategy', 'replication_factor': 1}\n",
    "    \"\"\")\n",
    "except Exception as e:\n",
    "    print (e)"
   ]
  },
  {
   "cell_type": "code",
   "execution_count": 23,
   "metadata": {},
   "outputs": [],
   "source": [
    "try:\n",
    "    session.set_keyspace('sparkifydatabase')\n",
    "except Exception as e:\n",
    "    print (e)"
   ]
  },
  {
   "cell_type": "code",
   "execution_count": 24,
   "metadata": {},
   "outputs": [],
   "source": [
    "create_table_1 = \"CREATE TABLE IF NOT EXISTS song_details\"\n",
    "create_table_1 = create_table_1 + (\"\"\" (session_id INT, item_in_session INT, artist TEXT, song_title TEXT,\n",
    "                                        song_length FLOAT, PRIMARY KEY (session_id, item_in_session)\n",
    "                )\"\"\")\n",
    "try:\n",
    "    session.execute(create_table_1)\n",
    "except Exception as e:\n",
    "    print(e)\n",
    "    \n",
    "select_query_1 = \"\"\" SELECT artist, song_title, song_length FROM song_details\n",
    "                    WHERE session_id = %s \n",
    "                    AND item_in_session = %s \n",
    "                    \"\"\""
   ]
  },
  {
   "cell_type": "code",
   "execution_count": 27,
   "metadata": {},
   "outputs": [],
   "source": [
    "file = 'event_datafile_new.csv'\n",
    "\n",
    "with open(file, encoding = 'utf8') as f:\n",
    "    csvreader = csv.reader(f)\n",
    "    next(csvreader) \n",
    "    for line in csvreader:\n",
    "        query = \"INSERT INTO song_details(session_id, item_in_session, artist, song_title, song_length)\"\n",
    "        query = query + \"VALUES (%s, %s, %s, %s, %s)\"\n",
    "        session.execute(query, (int(line[8]), int(line[3]), line[0], line[9], float(line[5])))"
   ]
  },
  {
   "cell_type": "code",
   "execution_count": 28,
   "metadata": {},
   "outputs": [
    {
     "name": "stdout",
     "output_type": "stream",
     "text": [
      "Artist: Faithless \n",
      "Song Title: Music Matters (Mark Knight Dub) \n",
      "Song Length: 495.30731201171875\n"
     ]
    }
   ],
   "source": [
    "try:\n",
    "    rows = session.execute(select_query_1, (338, 4))\n",
    "except Exception as e:\n",
    "    print(e)\n",
    "    \n",
    "for row in rows:\n",
    "    print(\"Artist: \"+row.artist, \"\\nSong Title: \"+row.song_title, \"\\nSong Length: \"+str(row.song_length))"
   ]
  },
  {
   "cell_type": "code",
   "execution_count": 29,
   "metadata": {},
   "outputs": [],
   "source": [
    "create_table_2 = \"CREATE TABLE IF NOT EXISTS artist_details\"\n",
    "create_table_2 = create_table_2 + (\"\"\" (user_id INT, session_id INT, item_in_session INT, \n",
    "                                        artist_name TEXT, song_title TEXT, user_first_name TEXT, \n",
    "                                        user_last_name TEXT, PRIMARY KEY (user_id, session_id, item_in_session)\n",
    "                )\"\"\")\n",
    "try:\n",
    "    session.execute(create_table_2)\n",
    "except Exception as e:\n",
    "    print(e)\n",
    "    \n",
    "select_query_2 = \"\"\" SELECT artist_name, song_title, user_first_name, user_last_name FROM artist_details\n",
    "                    WHERE user_id = %s\n",
    "                    AND session_id = %s \n",
    "                \"\"\""
   ]
  },
  {
   "cell_type": "code",
   "execution_count": 32,
   "metadata": {},
   "outputs": [],
   "source": [
    "file = 'event_datafile_new.csv'\n",
    "\n",
    "with open(file, encoding = 'utf8') as f:\n",
    "    csvreader = csv.reader(f)\n",
    "    next(csvreader) # skip header\n",
    "    for line in csvreader:\n",
    "        query = \"INSERT INTO artist_details(user_id, session_id, item_in_session, artist_name, \\\n",
    "                                            song_title, user_first_name, user_last_name)\"\n",
    "        query = query + \"VALUES (%s, %s, %s, %s, %s, %s, %s)\"\n",
    "        ## Assign which column element should be assigned for each column in the INSERT statement.\n",
    "        session.execute(query, (int(line[10]), int(line[8]), int(line[3]), line[0], line[9], line[1], line[4]))"
   ]
  },
  {
   "cell_type": "code",
   "execution_count": 33,
   "metadata": {},
   "outputs": [
    {
     "name": "stdout",
     "output_type": "stream",
     "text": [
      "Artist: Down To The Bone \n",
      "Song Title: Keep On Keepin' On \n",
      "User First Name: Sylvie \n",
      "User Last Name: Cruz\n",
      "Artist: Three Drives \n",
      "Song Title: Greece 2000 \n",
      "User First Name: Sylvie \n",
      "User Last Name: Cruz\n",
      "Artist: Sebastien Tellier \n",
      "Song Title: Kilometer \n",
      "User First Name: Sylvie \n",
      "User Last Name: Cruz\n",
      "Artist: Lonnie Gordon \n",
      "Song Title: Catch You Baby (Steve Pitron & Max Sanna Radio Edit) \n",
      "User First Name: Sylvie \n",
      "User Last Name: Cruz\n"
     ]
    }
   ],
   "source": [
    "try:\n",
    "    rows = session.execute(select_query_2, (10, 182))\n",
    "except Exception as e:\n",
    "    print(e)\n",
    "    \n",
    "for row in rows:\n",
    "    print(\"Artist: \"+row.artist_name, \"\\nSong Title: \"+row.song_title, \"\\nUser First Name: \"+row.user_first_name, \"\\nUser Last Name: \"+row.user_last_name)"
   ]
  },
  {
   "cell_type": "code",
   "execution_count": 34,
   "metadata": {},
   "outputs": [],
   "source": [
    "create_table_3 = \"CREATE TABLE IF NOT EXISTS user_details\"\n",
    "create_table_3 = create_table_3 + (\"\"\" (song_title TEXT, user_id INT, user_first_name TEXT, user_last_name TEXT, \n",
    "                                        PRIMARY KEY ((song_title), user_id)\n",
    "                )\"\"\")\n",
    "try:\n",
    "    session.execute(create_table_3)\n",
    "except Exception as e:\n",
    "    print(e)"
   ]
  },
  {
   "cell_type": "code",
   "execution_count": 35,
   "metadata": {},
   "outputs": [],
   "source": [
    "file = 'event_datafile_new.csv'\n",
    "\n",
    "with open(file, encoding = 'utf8') as f:\n",
    "    csvreader = csv.reader(f)\n",
    "    next(csvreader) # skip header\n",
    "    for line in csvreader:\n",
    "        query = \"INSERT INTO user_details(song_title, user_id, user_first_name, user_last_name)\"\n",
    "        query = query + \"VALUES (%s, %s, %s, %s)\"\n",
    "        ## Assign which column element should be assigned for each column in the INSERT statement.\n",
    "        session.execute(query, (line[9], int(line[10]), line[1], line[4]))"
   ]
  },
  {
   "cell_type": "code",
   "execution_count": 36,
   "metadata": {},
   "outputs": [
    {
     "name": "stdout",
     "output_type": "stream",
     "text": [
      " SELECT user_first_name, user_last_name FROM user_details WHERE song_title = %s;\n"
     ]
    }
   ],
   "source": [
    "select_query_3 = \"\"\" SELECT user_first_name, user_last_name FROM user_details WHERE song_title = %s;\"\"\"\n",
    "print(select_query_3)"
   ]
  },
  {
   "cell_type": "code",
   "execution_count": null,
   "metadata": {},
   "outputs": [],
   "source": [
    "try:\n",
    "    rows = session.execute(select_query_3, ('All Hands Against His Own', ))\n",
    "except Exception as e:\n",
    "    print(e)\n",
    "\n",
    "for row in rows:\n",
    "    print(\"User First Name: \"+row.user_first_name, \"\\nUser Last Name: \"+row.user_last_name)"
   ]
  },
  {
   "cell_type": "code",
   "execution_count": 38,
   "metadata": {},
   "outputs": [
    {
     "data": {
      "text/plain": [
       "<cassandra.cluster.ResultSet at 0x7f526e30bf70>"
      ]
     },
     "execution_count": 38,
     "metadata": {},
     "output_type": "execute_result"
    }
   ],
   "source": [
    "session.execute(\"DROP TABLE IF EXISTS song_details\")\n",
    "session.execute(\"DROP TABLE IF EXISTS artist_details\")\n",
    "session.execute(\"DROP TABLE IF EXISTS user_details\")"
   ]
  },
  {
   "cell_type": "code",
   "execution_count": null,
   "metadata": {},
   "outputs": [],
   "source": [
    "session.shutdown()\n",
    "cluster.shutdown()"
   ]
  }
 ],
 "metadata": {
  "kernelspec": {
   "display_name": "Python 3.8.10 ('venv': venv)",
   "language": "python",
   "name": "python3"
  },
  "language_info": {
   "codemirror_mode": {
    "name": "ipython",
    "version": 3
   },
   "file_extension": ".py",
   "mimetype": "text/x-python",
   "name": "python",
   "nbconvert_exporter": "python",
   "pygments_lexer": "ipython3",
   "version": "3.8.10"
  },
  "orig_nbformat": 4,
  "vscode": {
   "interpreter": {
    "hash": "0e79c7ee7c3e460b52d1e4de4309ce3f6dbf7478596854e68ad2a968fff6f8c0"
   }
  }
 },
 "nbformat": 4,
 "nbformat_minor": 2
}
